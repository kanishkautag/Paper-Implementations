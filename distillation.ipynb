{
 "cells": [
  {
   "cell_type": "code",
   "execution_count": 7,
   "id": "b4a07330",
   "metadata": {},
   "outputs": [],
   "source": [
    "import torch\n",
    "import torch.nn as nn\n",
    "import torch.nn.functional as F\n",
    "import torch.optim as optim\n",
    "from torch.utils.data import DataLoader\n",
    "import torchvision\n",
    "import torchvision.transforms as transforms\n",
    "import matplotlib.pyplot as plt\n",
    "import numpy as np\n",
    "import os\n",
    "from tqdm import tqdm\n",
    "from tqdm import tqdm "
   ]
  },
  {
   "cell_type": "code",
   "execution_count": 5,
   "id": "c4e3ef66",
   "metadata": {},
   "outputs": [],
   "source": [
    "transform = transforms.Compose([\n",
    "    transforms.ToTensor(),\n",
    "    transforms.Normalize((0.2860,), (0.3530,))  # Fashion-MNIST mean and std\n",
    "])"
   ]
  },
  {
   "cell_type": "code",
   "execution_count": 8,
   "id": "69ef87d1",
   "metadata": {},
   "outputs": [
    {
     "name": "stdout",
     "output_type": "stream",
     "text": [
      "Downloading http://fashion-mnist.s3-website.eu-central-1.amazonaws.com/train-images-idx3-ubyte.gz\n",
      "Downloading http://fashion-mnist.s3-website.eu-central-1.amazonaws.com/train-images-idx3-ubyte.gz to ./data\\FashionMNIST\\raw\\train-images-idx3-ubyte.gz\n"
     ]
    },
    {
     "name": "stderr",
     "output_type": "stream",
     "text": [
      "100%|██████████| 26.4M/26.4M [00:04<00:00, 5.43MB/s]\n"
     ]
    },
    {
     "name": "stdout",
     "output_type": "stream",
     "text": [
      "Extracting ./data\\FashionMNIST\\raw\\train-images-idx3-ubyte.gz to ./data\\FashionMNIST\\raw\n",
      "\n",
      "Downloading http://fashion-mnist.s3-website.eu-central-1.amazonaws.com/train-labels-idx1-ubyte.gz\n",
      "Downloading http://fashion-mnist.s3-website.eu-central-1.amazonaws.com/train-labels-idx1-ubyte.gz to ./data\\FashionMNIST\\raw\\train-labels-idx1-ubyte.gz\n"
     ]
    },
    {
     "name": "stderr",
     "output_type": "stream",
     "text": [
      "100%|██████████| 29.5k/29.5k [00:00<00:00, 217kB/s]\n"
     ]
    },
    {
     "name": "stdout",
     "output_type": "stream",
     "text": [
      "Extracting ./data\\FashionMNIST\\raw\\train-labels-idx1-ubyte.gz to ./data\\FashionMNIST\\raw\n",
      "\n",
      "Downloading http://fashion-mnist.s3-website.eu-central-1.amazonaws.com/t10k-images-idx3-ubyte.gz\n",
      "Downloading http://fashion-mnist.s3-website.eu-central-1.amazonaws.com/t10k-images-idx3-ubyte.gz to ./data\\FashionMNIST\\raw\\t10k-images-idx3-ubyte.gz\n"
     ]
    },
    {
     "name": "stderr",
     "output_type": "stream",
     "text": [
      "100%|██████████| 4.42M/4.42M [00:02<00:00, 1.82MB/s]\n"
     ]
    },
    {
     "name": "stdout",
     "output_type": "stream",
     "text": [
      "Extracting ./data\\FashionMNIST\\raw\\t10k-images-idx3-ubyte.gz to ./data\\FashionMNIST\\raw\n",
      "\n",
      "Downloading http://fashion-mnist.s3-website.eu-central-1.amazonaws.com/t10k-labels-idx1-ubyte.gz\n",
      "Downloading http://fashion-mnist.s3-website.eu-central-1.amazonaws.com/t10k-labels-idx1-ubyte.gz to ./data\\FashionMNIST\\raw\\t10k-labels-idx1-ubyte.gz\n"
     ]
    },
    {
     "name": "stderr",
     "output_type": "stream",
     "text": [
      "100%|██████████| 5.15k/5.15k [00:00<00:00, 5.12MB/s]"
     ]
    },
    {
     "name": "stdout",
     "output_type": "stream",
     "text": [
      "Extracting ./data\\FashionMNIST\\raw\\t10k-labels-idx1-ubyte.gz to ./data\\FashionMNIST\\raw\n",
      "\n"
     ]
    },
    {
     "name": "stderr",
     "output_type": "stream",
     "text": [
      "\n"
     ]
    }
   ],
   "source": [
    "train_dataset = torchvision.datasets.FashionMNIST(\n",
    "    root='./data', \n",
    "    train=True, \n",
    "    download=True, \n",
    "    transform=transform\n",
    ")\n",
    "\n",
    "test_dataset = torchvision.datasets.FashionMNIST(\n",
    "    root='./data', \n",
    "    train=False, \n",
    "    download=True, \n",
    "    transform=transform\n",
    ")"
   ]
  },
  {
   "cell_type": "code",
   "execution_count": 9,
   "id": "617ab0b6",
   "metadata": {},
   "outputs": [],
   "source": [
    "batch_size=32\n",
    "train_loader=DataLoader(train_dataset,batch_size=batch_size,shuffle=True)\n",
    "test_loader=DataLoader(test_dataset,batch_size=batch_size,shuffle=False)"
   ]
  },
  {
   "cell_type": "code",
   "execution_count": 22,
   "id": "a875423a",
   "metadata": {},
   "outputs": [
    {
     "name": "stdout",
     "output_type": "stream",
     "text": [
      "tensor([0, 1, 2, 3, 4, 5, 6, 7, 8, 9])\n"
     ]
    }
   ],
   "source": [
    "print(train_dataset.targets.unique())"
   ]
  },
  {
   "cell_type": "code",
   "execution_count": 23,
   "id": "86ca93ed",
   "metadata": {},
   "outputs": [],
   "source": [
    "class_names = ['T-shirt/top', 'Trouser', 'Pullover', 'Dress', 'Coat',\n",
    "               'Sandal', 'Shirt', 'Sneaker', 'Bag', 'Ankle boot']"
   ]
  },
  {
   "cell_type": "code",
   "execution_count": 32,
   "id": "602a9eef",
   "metadata": {},
   "outputs": [],
   "source": [
    "class TeacherResNet(nn.Module):\n",
    "    def __init__(self):\n",
    "        super().__init__()\n",
    "        #input=1x28x28\n",
    "        self.conv1 = nn.Conv2d(1, 32, kernel_size=3, stride=1, padding=1)\n",
    "        self.bn1=nn.BatchNorm2d(32)\n",
    "        #output=32x28x28\n",
    "\n",
    "        self.conv2 = nn.Conv2d(32, 64, kernel_size=3, stride=1, padding=1)\n",
    "        self.bn2=nn.BatchNorm2d(64)\n",
    "        self.conv3=nn.Conv2d(64, 64, kernel_size=3, stride=1, padding=1)\n",
    "        self.bn3=nn.BatchNorm2d(64)\n",
    "        #output=64x28x28\n",
    "\n",
    "        self.pool1 = nn.MaxPool2d(kernel_size=2, stride=2)\n",
    "        #output=64x14x14\n",
    "\n",
    "        self.conv4 = nn.Conv2d(64, 128, kernel_size=3, stride=1, padding=1)\n",
    "        self.bn4=nn.BatchNorm2d(128)\n",
    "        self.conv5=nn.Conv2d(128, 128, kernel_size=3, stride=1, padding=1)\n",
    "        self.bn5=nn.BatchNorm2d(128)\n",
    "\n",
    "        self.pool2=nn.MaxPool2d(kernel_size=2, stride=2)\n",
    "\n",
    "        self.fc1 = nn.Linear(128 * 7 * 7, 256)\n",
    "        self.dropout1 = nn.Dropout(0.5)\n",
    "        self.fc2 = nn.Linear(256, 10)\n",
    "\n",
    "    def forward(self, x):\n",
    "        # Input x shape: [batch_size, 1, 28, 28]\n",
    "        x = F.relu(self.bn1(self.conv1(x)))  # [batch_size, 32, 28, 28]\n",
    "        \n",
    "        residual = x\n",
    "        x = F.relu(self.bn2(self.conv2(x)))  # [batch_size, 64, 28, 28]\n",
    "        x = self.bn3(self.conv3(x))  # [batch_size, 64, 28, 28]\n",
    "        \n",
    "    \n",
    "        residual = F.pad(residual, (0, 0, 0, 0, 16, 16))  # Pad channels from 32 to 64\n",
    "        x = F.relu(x + residual)  # [batch_size, 64, 28, 28]\n",
    "        \n",
    "        x = self.pool1(x)  # [batch_size, 64, 14, 14]\n",
    "        \n",
    "\n",
    "        residual = x\n",
    "        x = F.relu(self.bn4(self.conv4(x)))  # [batch_size, 128, 14, 14]\n",
    "        x = self.bn5(self.conv5(x))  # [batch_size, 128, 14, 14]\n",
    "        \n",
    "\n",
    "        residual = F.pad(residual, (0, 0, 0, 0, 32, 32))  # Pad channels from 64 to 128\n",
    "        x = F.relu(x + residual)  # [batch_size, 128, 14, 14]\n",
    "        \n",
    "        x = self.pool2(x)  # [batch_size, 128, 7, 7]\n",
    "        \n",
    "        # Flatten\n",
    "        x = torch.flatten(x, 1)  # [batch_size, 128*7*7] = [batch_size, 6272]\n",
    "        \n",
    "        # Fully connected layers\n",
    "        x = F.relu(self.fc1(x))  # [batch_size, 256]\n",
    "        x = self.dropout1(x)\n",
    "        x = self.fc2(x)  # [batch_size, 10]\n",
    "        \n",
    "        return x\n"
   ]
  },
  {
   "cell_type": "code",
   "execution_count": 33,
   "id": "d7428cde",
   "metadata": {},
   "outputs": [],
   "source": [
    "class StudentMobileNet(nn.Module):\n",
    "    def __init__(self):\n",
    "        super().__init__()\n",
    "        \n",
    "        # Depthwise separable convolution block function\n",
    "        def depthwise_separable_conv(in_channels, out_channels, stride=1):\n",
    "            return nn.Sequential(\n",
    "                # Depthwise convolution\n",
    "                nn.Conv2d(in_channels, in_channels, kernel_size=3, stride=stride, padding=1, groups=in_channels),\n",
    "                nn.BatchNorm2d(in_channels),\n",
    "                nn.ReLU(inplace=True),\n",
    "                \n",
    "                # Pointwise convolution\n",
    "                nn.Conv2d(in_channels, out_channels, kernel_size=1, stride=1),\n",
    "                nn.BatchNorm2d(out_channels),\n",
    "                nn.ReLU(inplace=True)\n",
    "            )\n",
    "        \n",
    "        # Initial convolution\n",
    "        # Input: [batch_size, 1, 28, 28]\n",
    "        self.conv1 = nn.Conv2d(1, 16, kernel_size=3, stride=1, padding=1)\n",
    "        self.bn1 = nn.BatchNorm2d(16)\n",
    "        # Output: [batch_size, 16, 28, 28]\n",
    "        \n",
    "        # Depthwise separable convolution blocks\n",
    "        self.conv_dw1 = depthwise_separable_conv(16, 32, stride=2)\n",
    "        # Output: [batch_size, 32, 14, 14]\n",
    "        \n",
    "        self.conv_dw2 = depthwise_separable_conv(32, 64, stride=1)\n",
    "        # Output: [batch_size, 64, 14, 14]\n",
    "        \n",
    "        self.conv_dw3 = depthwise_separable_conv(64, 64, stride=2)\n",
    "        # Output: [batch_size, 64, 7, 7]\n",
    "        \n",
    "        # Global average pooling\n",
    "        self.global_pool = nn.AdaptiveAvgPool2d(1)\n",
    "        # Output: [batch_size, 64, 1, 1]\n",
    "        \n",
    "        # Classifier\n",
    "        self.fc = nn.Linear(64, 10)  # 10 classes for Fashion-MNIST\n",
    "    \n",
    "    def forward(self, x):\n",
    "        # Input x shape: [batch_size, 1, 28, 28]\n",
    "        x = F.relu(self.bn1(self.conv1(x)))  # [batch_size, 16, 28, 28]\n",
    "        \n",
    "        x = self.conv_dw1(x)  # [batch_size, 32, 14, 14]\n",
    "        x = self.conv_dw2(x)  # [batch_size, 64, 14, 14]\n",
    "        x = self.conv_dw3(x)  # [batch_size, 64, 7, 7]\n",
    "        \n",
    "        x = self.global_pool(x)  # [batch_size, 64, 1, 1]\n",
    "        x = x.view(x.size(0), -1)  # [batch_size, 64]\n",
    "        x = self.fc(x)  # [batch_size, 10]\n",
    "        \n",
    "        return x\n"
   ]
  },
  {
   "cell_type": "code",
   "execution_count": 35,
   "id": "5b0e7456",
   "metadata": {},
   "outputs": [],
   "source": [
    "teacher_model = TeacherResNet()\n",
    "student_model = StudentMobileNet()"
   ]
  },
  {
   "cell_type": "code",
   "execution_count": 36,
   "id": "0363bc1e",
   "metadata": {},
   "outputs": [
    {
     "name": "stdout",
     "output_type": "stream",
     "text": [
      "Teacher Model Summary:\n",
      "\n",
      "Student Model Summary:\n"
     ]
    },
    {
     "data": {
      "text/plain": [
       "==========================================================================================\n",
       "Layer (type:depth-idx)                   Output Shape              Param #\n",
       "==========================================================================================\n",
       "StudentMobileNet                         [64, 10]                  --\n",
       "├─Conv2d: 1-1                            [64, 16, 28, 28]          160\n",
       "├─BatchNorm2d: 1-2                       [64, 16, 28, 28]          32\n",
       "├─Sequential: 1-3                        [64, 32, 14, 14]          --\n",
       "│    └─Conv2d: 2-1                       [64, 16, 14, 14]          160\n",
       "│    └─BatchNorm2d: 2-2                  [64, 16, 14, 14]          32\n",
       "│    └─ReLU: 2-3                         [64, 16, 14, 14]          --\n",
       "│    └─Conv2d: 2-4                       [64, 32, 14, 14]          544\n",
       "│    └─BatchNorm2d: 2-5                  [64, 32, 14, 14]          64\n",
       "│    └─ReLU: 2-6                         [64, 32, 14, 14]          --\n",
       "├─Sequential: 1-4                        [64, 64, 14, 14]          --\n",
       "│    └─Conv2d: 2-7                       [64, 32, 14, 14]          320\n",
       "│    └─BatchNorm2d: 2-8                  [64, 32, 14, 14]          64\n",
       "│    └─ReLU: 2-9                         [64, 32, 14, 14]          --\n",
       "│    └─Conv2d: 2-10                      [64, 64, 14, 14]          2,112\n",
       "│    └─BatchNorm2d: 2-11                 [64, 64, 14, 14]          128\n",
       "│    └─ReLU: 2-12                        [64, 64, 14, 14]          --\n",
       "├─Sequential: 1-5                        [64, 64, 7, 7]            --\n",
       "│    └─Conv2d: 2-13                      [64, 64, 7, 7]            640\n",
       "│    └─BatchNorm2d: 2-14                 [64, 64, 7, 7]            128\n",
       "│    └─ReLU: 2-15                        [64, 64, 7, 7]            --\n",
       "│    └─Conv2d: 2-16                      [64, 64, 7, 7]            4,160\n",
       "│    └─BatchNorm2d: 2-17                 [64, 64, 7, 7]            128\n",
       "│    └─ReLU: 2-18                        [64, 64, 7, 7]            --\n",
       "├─AdaptiveAvgPool2d: 1-6                 [64, 64, 1, 1]            --\n",
       "├─Linear: 1-7                            [64, 10]                  650\n",
       "==========================================================================================\n",
       "Total params: 9,322\n",
       "Trainable params: 9,322\n",
       "Non-trainable params: 0\n",
       "Total mult-adds (Units.MEGABYTES): 62.50\n",
       "==========================================================================================\n",
       "Input size (MB): 0.20\n",
       "Forward/backward pass size (MB): 48.17\n",
       "Params size (MB): 0.04\n",
       "Estimated Total Size (MB): 48.41\n",
       "=========================================================================================="
      ]
     },
     "execution_count": 36,
     "metadata": {},
     "output_type": "execute_result"
    }
   ],
   "source": [
    "from torchinfo import summary\n",
    "print(\"Teacher Model Summary:\")\n",
    "summary(model=teacher_model, input_size=(batch_size, 1, 28, 28))\n",
    "print(\"\\nStudent Model Summary:\")\n",
    "summary(model=student_model, input_size=(batch_size, 1, 28, 28))"
   ]
  },
  {
   "cell_type": "code",
   "execution_count": 39,
   "id": "6cc1ca72",
   "metadata": {},
   "outputs": [
    {
     "name": "stdout",
     "output_type": "stream",
     "text": [
      "<bound method Module.parameters of TeacherResNet(\n",
      "  (conv1): Conv2d(1, 32, kernel_size=(3, 3), stride=(1, 1), padding=(1, 1))\n",
      "  (bn1): BatchNorm2d(32, eps=1e-05, momentum=0.1, affine=True, track_running_stats=True)\n",
      "  (conv2): Conv2d(32, 64, kernel_size=(3, 3), stride=(1, 1), padding=(1, 1))\n",
      "  (bn2): BatchNorm2d(64, eps=1e-05, momentum=0.1, affine=True, track_running_stats=True)\n",
      "  (conv3): Conv2d(64, 64, kernel_size=(3, 3), stride=(1, 1), padding=(1, 1))\n",
      "  (bn3): BatchNorm2d(64, eps=1e-05, momentum=0.1, affine=True, track_running_stats=True)\n",
      "  (pool1): MaxPool2d(kernel_size=2, stride=2, padding=0, dilation=1, ceil_mode=False)\n",
      "  (conv4): Conv2d(64, 128, kernel_size=(3, 3), stride=(1, 1), padding=(1, 1))\n",
      "  (bn4): BatchNorm2d(128, eps=1e-05, momentum=0.1, affine=True, track_running_stats=True)\n",
      "  (conv5): Conv2d(128, 128, kernel_size=(3, 3), stride=(1, 1), padding=(1, 1))\n",
      "  (bn5): BatchNorm2d(128, eps=1e-05, momentum=0.1, affine=True, track_running_stats=True)\n",
      "  (pool2): MaxPool2d(kernel_size=2, stride=2, padding=0, dilation=1, ceil_mode=False)\n",
      "  (fc1): Linear(in_features=6272, out_features=256, bias=True)\n",
      "  (dropout1): Dropout(p=0.5, inplace=False)\n",
      "  (fc2): Linear(in_features=256, out_features=10, bias=True)\n",
      ")>\n"
     ]
    }
   ],
   "source": [
    "print(teacher_model.parameters)"
   ]
  },
  {
   "cell_type": "code",
   "execution_count": 43,
   "id": "fdedfddc",
   "metadata": {},
   "outputs": [
    {
     "name": "stdout",
     "output_type": "stream",
     "text": [
      "==================================================\n",
      "Training StudentMobileNet Model\n",
      "==================================================\n"
     ]
    },
    {
     "data": {
      "application/vnd.jupyter.widget-view+json": {
       "model_id": "cd280d1a46d74799b7e03313fed7b0cc",
       "version_major": 2,
       "version_minor": 0
      },
      "text/plain": [
       "Epoch 1/10 [Train]:   0%|          | 0/938 [00:00<?, ?it/s]"
      ]
     },
     "metadata": {},
     "output_type": "display_data"
    },
    {
     "data": {
      "application/vnd.jupyter.widget-view+json": {
       "model_id": "dfeeb3a29ca544a98e691382fd5e1647",
       "version_major": 2,
       "version_minor": 0
      },
      "text/plain": [
       "Evaluation:   0%|          | 0/157 [00:00<?, ?it/s]"
      ]
     },
     "metadata": {},
     "output_type": "display_data"
    },
    {
     "name": "stdout",
     "output_type": "stream",
     "text": [
      "Epoch 1/10 | Train Loss: 0.8214 | Train Acc: 73.62% | Val Loss: 0.4750 | Val Acc: 83.54%\n",
      "New best model saved at: checkpoints/StudentMobileNet_best.pt (Val Acc: 83.54%)\n"
     ]
    },
    {
     "data": {
      "application/vnd.jupyter.widget-view+json": {
       "model_id": "605c7583e54e4d5abf9e23b28bc16306",
       "version_major": 2,
       "version_minor": 0
      },
      "text/plain": [
       "Epoch 2/10 [Train]:   0%|          | 0/938 [00:00<?, ?it/s]"
      ]
     },
     "metadata": {},
     "output_type": "display_data"
    },
    {
     "data": {
      "application/vnd.jupyter.widget-view+json": {
       "model_id": "5e4f4dbd582b4b139de472b0af221e37",
       "version_major": 2,
       "version_minor": 0
      },
      "text/plain": [
       "Evaluation:   0%|          | 0/157 [00:00<?, ?it/s]"
      ]
     },
     "metadata": {},
     "output_type": "display_data"
    },
    {
     "name": "stdout",
     "output_type": "stream",
     "text": [
      "Epoch 2/10 | Train Loss: 0.4182 | Train Acc: 85.39% | Val Loss: 0.3912 | Val Acc: 86.10%\n",
      "New best model saved at: checkpoints/StudentMobileNet_best.pt (Val Acc: 86.10%)\n"
     ]
    },
    {
     "data": {
      "application/vnd.jupyter.widget-view+json": {
       "model_id": "39ce4e87784a4dceb956fcc277e34031",
       "version_major": 2,
       "version_minor": 0
      },
      "text/plain": [
       "Epoch 3/10 [Train]:   0%|          | 0/938 [00:00<?, ?it/s]"
      ]
     },
     "metadata": {},
     "output_type": "display_data"
    },
    {
     "data": {
      "application/vnd.jupyter.widget-view+json": {
       "model_id": "27f9fddad79c41659180c3801ecfbb34",
       "version_major": 2,
       "version_minor": 0
      },
      "text/plain": [
       "Evaluation:   0%|          | 0/157 [00:00<?, ?it/s]"
      ]
     },
     "metadata": {},
     "output_type": "display_data"
    },
    {
     "name": "stdout",
     "output_type": "stream",
     "text": [
      "Epoch 3/10 | Train Loss: 0.3615 | Train Acc: 87.17% | Val Loss: 0.3689 | Val Acc: 87.11%\n",
      "New best model saved at: checkpoints/StudentMobileNet_best.pt (Val Acc: 87.11%)\n"
     ]
    },
    {
     "data": {
      "application/vnd.jupyter.widget-view+json": {
       "model_id": "8e69c834a6ef4053866275dd442bb706",
       "version_major": 2,
       "version_minor": 0
      },
      "text/plain": [
       "Epoch 4/10 [Train]:   0%|          | 0/938 [00:00<?, ?it/s]"
      ]
     },
     "metadata": {},
     "output_type": "display_data"
    },
    {
     "data": {
      "application/vnd.jupyter.widget-view+json": {
       "model_id": "f6a9636eecec4b9c9b545f0cfe1b5c3b",
       "version_major": 2,
       "version_minor": 0
      },
      "text/plain": [
       "Evaluation:   0%|          | 0/157 [00:00<?, ?it/s]"
      ]
     },
     "metadata": {},
     "output_type": "display_data"
    },
    {
     "name": "stdout",
     "output_type": "stream",
     "text": [
      "Epoch 4/10 | Train Loss: 0.3343 | Train Acc: 88.00% | Val Loss: 0.3403 | Val Acc: 87.87%\n",
      "New best model saved at: checkpoints/StudentMobileNet_best.pt (Val Acc: 87.87%)\n"
     ]
    },
    {
     "data": {
      "application/vnd.jupyter.widget-view+json": {
       "model_id": "4763e15066fd4aceafff7043baeba310",
       "version_major": 2,
       "version_minor": 0
      },
      "text/plain": [
       "Epoch 5/10 [Train]:   0%|          | 0/938 [00:00<?, ?it/s]"
      ]
     },
     "metadata": {},
     "output_type": "display_data"
    },
    {
     "data": {
      "application/vnd.jupyter.widget-view+json": {
       "model_id": "26ca2887e0cf45f18f3b0f35e9d14f7d",
       "version_major": 2,
       "version_minor": 0
      },
      "text/plain": [
       "Evaluation:   0%|          | 0/157 [00:00<?, ?it/s]"
      ]
     },
     "metadata": {},
     "output_type": "display_data"
    },
    {
     "name": "stdout",
     "output_type": "stream",
     "text": [
      "Epoch 5/10 | Train Loss: 0.3176 | Train Acc: 88.56% | Val Loss: 0.3345 | Val Acc: 88.39%\n",
      "New best model saved at: checkpoints/StudentMobileNet_best.pt (Val Acc: 88.39%)\n",
      "Checkpoint saved at: checkpoints/StudentMobileNet_epoch5.pt\n"
     ]
    },
    {
     "data": {
      "application/vnd.jupyter.widget-view+json": {
       "model_id": "09e204ff52e548ca992f12ce3414cd6a",
       "version_major": 2,
       "version_minor": 0
      },
      "text/plain": [
       "Epoch 6/10 [Train]:   0%|          | 0/938 [00:00<?, ?it/s]"
      ]
     },
     "metadata": {},
     "output_type": "display_data"
    },
    {
     "data": {
      "application/vnd.jupyter.widget-view+json": {
       "model_id": "6b671569854943a3856493ffb043b968",
       "version_major": 2,
       "version_minor": 0
      },
      "text/plain": [
       "Evaluation:   0%|          | 0/157 [00:00<?, ?it/s]"
      ]
     },
     "metadata": {},
     "output_type": "display_data"
    },
    {
     "name": "stdout",
     "output_type": "stream",
     "text": [
      "Epoch 6/10 | Train Loss: 0.3034 | Train Acc: 89.08% | Val Loss: 0.3306 | Val Acc: 88.36%\n"
     ]
    },
    {
     "data": {
      "application/vnd.jupyter.widget-view+json": {
       "model_id": "5904f23f1dd8447997a05f9f188488ad",
       "version_major": 2,
       "version_minor": 0
      },
      "text/plain": [
       "Epoch 7/10 [Train]:   0%|          | 0/938 [00:00<?, ?it/s]"
      ]
     },
     "metadata": {},
     "output_type": "display_data"
    },
    {
     "data": {
      "application/vnd.jupyter.widget-view+json": {
       "model_id": "50fef767616147f1b85a9976a211ce46",
       "version_major": 2,
       "version_minor": 0
      },
      "text/plain": [
       "Evaluation:   0%|          | 0/157 [00:00<?, ?it/s]"
      ]
     },
     "metadata": {},
     "output_type": "display_data"
    },
    {
     "name": "stdout",
     "output_type": "stream",
     "text": [
      "Epoch 7/10 | Train Loss: 0.2915 | Train Acc: 89.53% | Val Loss: 0.3219 | Val Acc: 88.55%\n",
      "New best model saved at: checkpoints/StudentMobileNet_best.pt (Val Acc: 88.55%)\n"
     ]
    },
    {
     "data": {
      "application/vnd.jupyter.widget-view+json": {
       "model_id": "6a59221e10714a8aac271e630250946d",
       "version_major": 2,
       "version_minor": 0
      },
      "text/plain": [
       "Epoch 8/10 [Train]:   0%|          | 0/938 [00:00<?, ?it/s]"
      ]
     },
     "metadata": {},
     "output_type": "display_data"
    },
    {
     "data": {
      "application/vnd.jupyter.widget-view+json": {
       "model_id": "58767cbfa8fd41d19293c5a76a78a9c2",
       "version_major": 2,
       "version_minor": 0
      },
      "text/plain": [
       "Evaluation:   0%|          | 0/157 [00:00<?, ?it/s]"
      ]
     },
     "metadata": {},
     "output_type": "display_data"
    },
    {
     "name": "stdout",
     "output_type": "stream",
     "text": [
      "Epoch 8/10 | Train Loss: 0.2858 | Train Acc: 89.65% | Val Loss: 0.3214 | Val Acc: 88.72%\n",
      "New best model saved at: checkpoints/StudentMobileNet_best.pt (Val Acc: 88.72%)\n"
     ]
    },
    {
     "data": {
      "application/vnd.jupyter.widget-view+json": {
       "model_id": "76c4e65ce0494258aca37c602151e0fa",
       "version_major": 2,
       "version_minor": 0
      },
      "text/plain": [
       "Epoch 9/10 [Train]:   0%|          | 0/938 [00:00<?, ?it/s]"
      ]
     },
     "metadata": {},
     "output_type": "display_data"
    },
    {
     "data": {
      "application/vnd.jupyter.widget-view+json": {
       "model_id": "08ce31f756f6407eab9240e3cd4f58e0",
       "version_major": 2,
       "version_minor": 0
      },
      "text/plain": [
       "Evaluation:   0%|          | 0/157 [00:00<?, ?it/s]"
      ]
     },
     "metadata": {},
     "output_type": "display_data"
    },
    {
     "name": "stdout",
     "output_type": "stream",
     "text": [
      "Epoch 9/10 | Train Loss: 0.2783 | Train Acc: 89.94% | Val Loss: 0.3102 | Val Acc: 88.88%\n",
      "New best model saved at: checkpoints/StudentMobileNet_best.pt (Val Acc: 88.88%)\n"
     ]
    },
    {
     "data": {
      "application/vnd.jupyter.widget-view+json": {
       "model_id": "9957474a2b6d4b6c8be4b8ca69f6be21",
       "version_major": 2,
       "version_minor": 0
      },
      "text/plain": [
       "Epoch 10/10 [Train]:   0%|          | 0/938 [00:00<?, ?it/s]"
      ]
     },
     "metadata": {},
     "output_type": "display_data"
    },
    {
     "data": {
      "application/vnd.jupyter.widget-view+json": {
       "model_id": "ba1c648f010d4a5d92562b91629b45f7",
       "version_major": 2,
       "version_minor": 0
      },
      "text/plain": [
       "Evaluation:   0%|          | 0/157 [00:00<?, ?it/s]"
      ]
     },
     "metadata": {},
     "output_type": "display_data"
    },
    {
     "name": "stdout",
     "output_type": "stream",
     "text": [
      "Epoch 10/10 | Train Loss: 0.2709 | Train Acc: 90.38% | Val Loss: 0.3029 | Val Acc: 89.16%\n",
      "New best model saved at: checkpoints/StudentMobileNet_best.pt (Val Acc: 89.16%)\n",
      "Checkpoint saved at: checkpoints/StudentMobileNet_epoch10.pt\n",
      "Training completed. Best validation accuracy: 89.16%\n",
      "\n",
      "Evaluating StudentMobileNet on test set:\n"
     ]
    },
    {
     "data": {
      "application/vnd.jupyter.widget-view+json": {
       "model_id": "ed8987d439e04a72b18da0045eecc1e1",
       "version_major": 2,
       "version_minor": 0
      },
      "text/plain": [
       "Testing:   0%|          | 0/157 [00:00<?, ?it/s]"
      ]
     },
     "metadata": {},
     "output_type": "display_data"
    },
    {
     "name": "stdout",
     "output_type": "stream",
     "text": [
      "\n",
      "Test Accuracy per class:\n",
      "T-shirt/top: 85.70%\n",
      "Trouser: 97.20%\n",
      "Pullover: 85.70%\n",
      "Dress: 89.80%\n",
      "Coat: 79.90%\n",
      "Sandal: 97.10%\n",
      "Shirt: 68.00%\n",
      "Sneaker: 93.30%\n",
      "Bag: 98.10%\n",
      "Ankle boot: 96.80%\n",
      "\n",
      "Overall Test Accuracy: 89.16%\n",
      "\n",
      "==================================================\n",
      "Training TeacherResNet Model\n",
      "==================================================\n"
     ]
    },
    {
     "data": {
      "application/vnd.jupyter.widget-view+json": {
       "model_id": "66ac8d56cc1b47f091d30a93375fa61e",
       "version_major": 2,
       "version_minor": 0
      },
      "text/plain": [
       "Epoch 1/10 [Train]:   0%|          | 0/938 [00:00<?, ?it/s]"
      ]
     },
     "metadata": {},
     "output_type": "display_data"
    },
    {
     "data": {
      "application/vnd.jupyter.widget-view+json": {
       "model_id": "077a9f5012e74b209189e34d5609ca4f",
       "version_major": 2,
       "version_minor": 0
      },
      "text/plain": [
       "Evaluation:   0%|          | 0/157 [00:00<?, ?it/s]"
      ]
     },
     "metadata": {},
     "output_type": "display_data"
    },
    {
     "name": "stdout",
     "output_type": "stream",
     "text": [
      "Epoch 1/10 | Train Loss: 0.5890 | Train Acc: 79.65% | Val Loss: 0.3212 | Val Acc: 88.23%\n",
      "New best model saved at: checkpoints/TeacherResNet_best.pt (Val Acc: 88.23%)\n"
     ]
    },
    {
     "data": {
      "application/vnd.jupyter.widget-view+json": {
       "model_id": "0dc4533a8972444aa6b03d9d286ffa81",
       "version_major": 2,
       "version_minor": 0
      },
      "text/plain": [
       "Epoch 2/10 [Train]:   0%|          | 0/938 [00:00<?, ?it/s]"
      ]
     },
     "metadata": {},
     "output_type": "display_data"
    },
    {
     "data": {
      "application/vnd.jupyter.widget-view+json": {
       "model_id": "4a4a72f418b642d9a460f888595507b0",
       "version_major": 2,
       "version_minor": 0
      },
      "text/plain": [
       "Evaluation:   0%|          | 0/157 [00:00<?, ?it/s]"
      ]
     },
     "metadata": {},
     "output_type": "display_data"
    },
    {
     "name": "stdout",
     "output_type": "stream",
     "text": [
      "Epoch 2/10 | Train Loss: 0.3500 | Train Acc: 87.42% | Val Loss: 0.2608 | Val Acc: 90.29%\n",
      "New best model saved at: checkpoints/TeacherResNet_best.pt (Val Acc: 90.29%)\n"
     ]
    },
    {
     "data": {
      "application/vnd.jupyter.widget-view+json": {
       "model_id": "6e7966a0c2d348aab54d8baa26673ee1",
       "version_major": 2,
       "version_minor": 0
      },
      "text/plain": [
       "Epoch 3/10 [Train]:   0%|          | 0/938 [00:00<?, ?it/s]"
      ]
     },
     "metadata": {},
     "output_type": "display_data"
    },
    {
     "data": {
      "application/vnd.jupyter.widget-view+json": {
       "model_id": "d6f8e61d0dbc40f590b37549de51749f",
       "version_major": 2,
       "version_minor": 0
      },
      "text/plain": [
       "Evaluation:   0%|          | 0/157 [00:00<?, ?it/s]"
      ]
     },
     "metadata": {},
     "output_type": "display_data"
    },
    {
     "name": "stdout",
     "output_type": "stream",
     "text": [
      "Epoch 3/10 | Train Loss: 0.2922 | Train Acc: 89.66% | Val Loss: 0.2352 | Val Acc: 91.37%\n",
      "New best model saved at: checkpoints/TeacherResNet_best.pt (Val Acc: 91.37%)\n"
     ]
    },
    {
     "data": {
      "application/vnd.jupyter.widget-view+json": {
       "model_id": "58e322de1e664b708c86ff8936c871b5",
       "version_major": 2,
       "version_minor": 0
      },
      "text/plain": [
       "Epoch 4/10 [Train]:   0%|          | 0/938 [00:00<?, ?it/s]"
      ]
     },
     "metadata": {},
     "output_type": "display_data"
    },
    {
     "data": {
      "application/vnd.jupyter.widget-view+json": {
       "model_id": "587fe967a13b47d39a03793a357b515c",
       "version_major": 2,
       "version_minor": 0
      },
      "text/plain": [
       "Evaluation:   0%|          | 0/157 [00:00<?, ?it/s]"
      ]
     },
     "metadata": {},
     "output_type": "display_data"
    },
    {
     "name": "stdout",
     "output_type": "stream",
     "text": [
      "Epoch 4/10 | Train Loss: 0.2582 | Train Acc: 90.98% | Val Loss: 0.2378 | Val Acc: 91.51%\n",
      "New best model saved at: checkpoints/TeacherResNet_best.pt (Val Acc: 91.51%)\n"
     ]
    },
    {
     "data": {
      "application/vnd.jupyter.widget-view+json": {
       "model_id": "aa7bb1b61c3c416496f7a29cdb3673c2",
       "version_major": 2,
       "version_minor": 0
      },
      "text/plain": [
       "Epoch 5/10 [Train]:   0%|          | 0/938 [00:00<?, ?it/s]"
      ]
     },
     "metadata": {},
     "output_type": "display_data"
    },
    {
     "data": {
      "application/vnd.jupyter.widget-view+json": {
       "model_id": "2c496cde0d784a14a1ec5c4de55db7b4",
       "version_major": 2,
       "version_minor": 0
      },
      "text/plain": [
       "Evaluation:   0%|          | 0/157 [00:00<?, ?it/s]"
      ]
     },
     "metadata": {},
     "output_type": "display_data"
    },
    {
     "name": "stdout",
     "output_type": "stream",
     "text": [
      "Epoch 5/10 | Train Loss: 0.2284 | Train Acc: 91.97% | Val Loss: 0.2208 | Val Acc: 92.50%\n",
      "New best model saved at: checkpoints/TeacherResNet_best.pt (Val Acc: 92.50%)\n",
      "Checkpoint saved at: checkpoints/TeacherResNet_epoch5.pt\n"
     ]
    },
    {
     "data": {
      "application/vnd.jupyter.widget-view+json": {
       "model_id": "9a51586ff4544adca052e7016f01fe5a",
       "version_major": 2,
       "version_minor": 0
      },
      "text/plain": [
       "Epoch 6/10 [Train]:   0%|          | 0/938 [00:00<?, ?it/s]"
      ]
     },
     "metadata": {},
     "output_type": "display_data"
    },
    {
     "data": {
      "application/vnd.jupyter.widget-view+json": {
       "model_id": "02eeee24045343fdac96a508b8f35612",
       "version_major": 2,
       "version_minor": 0
      },
      "text/plain": [
       "Evaluation:   0%|          | 0/157 [00:00<?, ?it/s]"
      ]
     },
     "metadata": {},
     "output_type": "display_data"
    },
    {
     "name": "stdout",
     "output_type": "stream",
     "text": [
      "Epoch 6/10 | Train Loss: 0.2091 | Train Acc: 92.64% | Val Loss: 0.2027 | Val Acc: 92.69%\n",
      "New best model saved at: checkpoints/TeacherResNet_best.pt (Val Acc: 92.69%)\n"
     ]
    },
    {
     "data": {
      "application/vnd.jupyter.widget-view+json": {
       "model_id": "24c3c7e3a413427997c39a562ce199c7",
       "version_major": 2,
       "version_minor": 0
      },
      "text/plain": [
       "Epoch 7/10 [Train]:   0%|          | 0/938 [00:00<?, ?it/s]"
      ]
     },
     "metadata": {},
     "output_type": "display_data"
    },
    {
     "data": {
      "application/vnd.jupyter.widget-view+json": {
       "model_id": "61d227af31414e2f82e6ae0e80210a9f",
       "version_major": 2,
       "version_minor": 0
      },
      "text/plain": [
       "Evaluation:   0%|          | 0/157 [00:00<?, ?it/s]"
      ]
     },
     "metadata": {},
     "output_type": "display_data"
    },
    {
     "name": "stdout",
     "output_type": "stream",
     "text": [
      "Epoch 7/10 | Train Loss: 0.1854 | Train Acc: 93.43% | Val Loss: 0.1981 | Val Acc: 93.06%\n",
      "New best model saved at: checkpoints/TeacherResNet_best.pt (Val Acc: 93.06%)\n"
     ]
    },
    {
     "data": {
      "application/vnd.jupyter.widget-view+json": {
       "model_id": "7ced0776828946779eb549cd8ce4a3ed",
       "version_major": 2,
       "version_minor": 0
      },
      "text/plain": [
       "Epoch 8/10 [Train]:   0%|          | 0/938 [00:00<?, ?it/s]"
      ]
     },
     "metadata": {},
     "output_type": "display_data"
    },
    {
     "data": {
      "application/vnd.jupyter.widget-view+json": {
       "model_id": "de3fdc0b957b4c3480355f8fce515264",
       "version_major": 2,
       "version_minor": 0
      },
      "text/plain": [
       "Evaluation:   0%|          | 0/157 [00:00<?, ?it/s]"
      ]
     },
     "metadata": {},
     "output_type": "display_data"
    },
    {
     "name": "stdout",
     "output_type": "stream",
     "text": [
      "Epoch 8/10 | Train Loss: 0.1693 | Train Acc: 94.00% | Val Loss: 0.1816 | Val Acc: 93.46%\n",
      "New best model saved at: checkpoints/TeacherResNet_best.pt (Val Acc: 93.46%)\n"
     ]
    },
    {
     "data": {
      "application/vnd.jupyter.widget-view+json": {
       "model_id": "fd2925bad4c7491cb7a9a10f11c96676",
       "version_major": 2,
       "version_minor": 0
      },
      "text/plain": [
       "Epoch 9/10 [Train]:   0%|          | 0/938 [00:00<?, ?it/s]"
      ]
     },
     "metadata": {},
     "output_type": "display_data"
    },
    {
     "data": {
      "application/vnd.jupyter.widget-view+json": {
       "model_id": "0262f3bdc2334b6b9f586bf44d6075b7",
       "version_major": 2,
       "version_minor": 0
      },
      "text/plain": [
       "Evaluation:   0%|          | 0/157 [00:00<?, ?it/s]"
      ]
     },
     "metadata": {},
     "output_type": "display_data"
    },
    {
     "name": "stdout",
     "output_type": "stream",
     "text": [
      "Epoch 9/10 | Train Loss: 0.1513 | Train Acc: 94.56% | Val Loss: 0.2160 | Val Acc: 93.30%\n"
     ]
    },
    {
     "data": {
      "application/vnd.jupyter.widget-view+json": {
       "model_id": "98b8511facfa4672bc111dbf1d7ce21e",
       "version_major": 2,
       "version_minor": 0
      },
      "text/plain": [
       "Epoch 10/10 [Train]:   0%|          | 0/938 [00:00<?, ?it/s]"
      ]
     },
     "metadata": {},
     "output_type": "display_data"
    },
    {
     "data": {
      "application/vnd.jupyter.widget-view+json": {
       "model_id": "818de5a1a1764b1faf51c8018a5629ca",
       "version_major": 2,
       "version_minor": 0
      },
      "text/plain": [
       "Evaluation:   0%|          | 0/157 [00:00<?, ?it/s]"
      ]
     },
     "metadata": {},
     "output_type": "display_data"
    },
    {
     "name": "stdout",
     "output_type": "stream",
     "text": [
      "Epoch 10/10 | Train Loss: 0.1363 | Train Acc: 95.08% | Val Loss: 0.1934 | Val Acc: 93.59%\n",
      "New best model saved at: checkpoints/TeacherResNet_best.pt (Val Acc: 93.59%)\n",
      "Checkpoint saved at: checkpoints/TeacherResNet_epoch10.pt\n",
      "Training completed. Best validation accuracy: 93.59%\n",
      "\n",
      "Evaluating TeacherResNet on test set:\n"
     ]
    },
    {
     "data": {
      "application/vnd.jupyter.widget-view+json": {
       "model_id": "19579f13bce043038d7d6ea1e4935043",
       "version_major": 2,
       "version_minor": 0
      },
      "text/plain": [
       "Testing:   0%|          | 0/157 [00:00<?, ?it/s]"
      ]
     },
     "metadata": {},
     "output_type": "display_data"
    },
    {
     "name": "stdout",
     "output_type": "stream",
     "text": [
      "\n",
      "Test Accuracy per class:\n",
      "T-shirt/top: 88.00%\n",
      "Trouser: 98.20%\n",
      "Pullover: 89.90%\n",
      "Dress: 95.20%\n",
      "Coat: 91.20%\n",
      "Sandal: 99.30%\n",
      "Shirt: 80.50%\n",
      "Sneaker: 98.20%\n",
      "Bag: 99.10%\n",
      "Ankle boot: 96.30%\n",
      "\n",
      "Overall Test Accuracy: 93.59%\n",
      "\n",
      "==================================================\n",
      "Model Comparison\n",
      "==================================================\n",
      "StudentMobileNet accuracy: 89.16%\n",
      "TeacherResNet accuracy: 93.59%\n",
      "Difference: 4.43%\n"
     ]
    }
   ],
   "source": [
    "import os\n",
    "import torch\n",
    "import torch.nn as nn\n",
    "import torch.nn.functional as F\n",
    "from tqdm.notebook import tqdm\n",
    "\n",
    "def train_model(model, train_loader, val_loader, epochs=10, lr=1e-4, device=\"cuda\", run_name=\"Model\"):\n",
    "    os.makedirs(f\"checkpoints\", exist_ok=True)\n",
    "    \n",
    "    model = model.to(device)\n",
    "    optimizer = torch.optim.Adam(model.parameters(), lr=lr)\n",
    "    criterion = nn.CrossEntropyLoss()\n",
    "    \n",
    "    # Track best validation accuracy\n",
    "    best_val_acc = 0\n",
    "    \n",
    "    for epoch in range(epochs):\n",
    "        model.train()\n",
    "        total_loss = 0\n",
    "        correct = 0\n",
    "        total = 0\n",
    "        \n",
    "        # Use tqdm for progress bar\n",
    "        progress_bar = tqdm(train_loader, desc=f'Epoch {epoch+1}/{epochs} [Train]')\n",
    "        \n",
    "        for images, labels in progress_bar:\n",
    "            images, labels = images.to(device), labels.to(device)\n",
    "            \n",
    "            optimizer.zero_grad()\n",
    "            outputs = model(images)\n",
    "            loss = criterion(outputs, labels)\n",
    "            \n",
    "            loss.backward()\n",
    "            optimizer.step()\n",
    "            \n",
    "            total_loss += loss.item()\n",
    "            \n",
    "            _, predicted = torch.max(outputs, 1)\n",
    "            total += labels.size(0)\n",
    "            correct += (predicted == labels).sum().item()\n",
    "            \n",
    "            # Update progress bar\n",
    "            progress_bar.set_postfix({\n",
    "                'loss': f'{loss.item():.4f}',\n",
    "                'acc': f'{100 * correct / total:.2f}%'\n",
    "            })\n",
    "        \n",
    "        train_acc = 100 * correct / total\n",
    "        train_loss = total_loss / len(train_loader)\n",
    "        \n",
    "        # Validation step\n",
    "        val_acc, val_loss = evaluate_model(model, val_loader, criterion, device)\n",
    "        \n",
    "        print(f\"Epoch {epoch+1}/{epochs} | Train Loss: {train_loss:.4f} | Train Acc: {train_acc:.2f}% | Val Loss: {val_loss:.4f} | Val Acc: {val_acc:.2f}%\")\n",
    "        \n",
    "        # Save model if it's the best so far\n",
    "        if val_acc > best_val_acc:\n",
    "            best_val_acc = val_acc\n",
    "            model_path = f\"checkpoints/{run_name}_best.pt\"\n",
    "            torch.save(model.state_dict(), model_path)\n",
    "            print(f\"New best model saved at: {model_path} (Val Acc: {val_acc:.2f}%)\")\n",
    "        \n",
    "        # Save model every 5 epochs\n",
    "        if (epoch + 1) % 5 == 0:\n",
    "            model_path = f\"checkpoints/{run_name}_epoch{epoch+1}.pt\"\n",
    "            torch.save(model.state_dict(), model_path)\n",
    "            print(f\"Checkpoint saved at: {model_path}\")\n",
    "    \n",
    "    print(f\"Training completed. Best validation accuracy: {best_val_acc:.2f}%\")\n",
    "    return model\n",
    "\n",
    "def evaluate_model(model, val_loader, criterion, device=\"cuda\"):\n",
    "    model.eval()\n",
    "    \n",
    "    total_loss = 0\n",
    "    correct = 0\n",
    "    total = 0\n",
    "    \n",
    "    progress_bar = tqdm(val_loader, desc='Evaluation', leave=False)\n",
    "    \n",
    "    with torch.no_grad():\n",
    "        for images, labels in progress_bar:\n",
    "            images, labels = images.to(device), labels.to(device)\n",
    "            outputs = model(images)\n",
    "            loss = criterion(outputs, labels)\n",
    "            total_loss += loss.item()\n",
    "            \n",
    "            _, predicted = torch.max(outputs.data, 1)\n",
    "            total += labels.size(0)\n",
    "            correct += (predicted == labels).sum().item()\n",
    "            \n",
    "            progress_bar.set_postfix({\n",
    "                'loss': f'{loss.item():.4f}',\n",
    "                'acc': f'{100 * correct / total:.2f}%'\n",
    "            })\n",
    "    \n",
    "    val_acc = 100 * correct / total\n",
    "    val_loss = total_loss / len(val_loader)\n",
    "    return val_acc, val_loss\n",
    "\n",
    "def test_model(model, test_loader, device=\"cuda\"):\n",
    "    \"\"\"Evaluate model on test set and print results per class\"\"\"\n",
    "    model.eval()\n",
    "    \n",
    "    class_correct = [0] * 10\n",
    "    class_total = [0] * 10\n",
    "    \n",
    "    # Fashion MNIST classes\n",
    "    classes = ['T-shirt/top', 'Trouser', 'Pullover', 'Dress', 'Coat',\n",
    "               'Sandal', 'Shirt', 'Sneaker', 'Bag', 'Ankle boot']\n",
    "    \n",
    "    with torch.no_grad():\n",
    "        for images, labels in tqdm(test_loader, desc='Testing'):\n",
    "            images, labels = images.to(device), labels.to(device)\n",
    "            outputs = model(images)\n",
    "            _, predicted = torch.max(outputs, 1)\n",
    "            \n",
    "            # Collect per-class accuracy\n",
    "            for i in range(labels.size(0)):\n",
    "                label = labels[i]\n",
    "                class_correct[label] += (predicted[i] == label).item()\n",
    "                class_total[label] += 1\n",
    "    \n",
    "    # Print per-class accuracy\n",
    "    print(\"\\nTest Accuracy per class:\")\n",
    "    for i in range(10):\n",
    "        accuracy = 100 * class_correct[i] / class_total[i]\n",
    "        print(f'{classes[i]}: {accuracy:.2f}%')\n",
    "    \n",
    "    # Overall accuracy\n",
    "    total_correct = sum(class_correct)\n",
    "    total_samples = sum(class_total)\n",
    "    overall_accuracy = 100 * total_correct / total_samples\n",
    "    print(f'\\nOverall Test Accuracy: {overall_accuracy:.2f}%')\n",
    "    \n",
    "    return overall_accuracy\n",
    "\n",
    "# Main execution function to train and evaluate both models\n",
    "def main(train_loader, test_loader, device=\"cuda\", epochs=10):\n",
    "    print(\"=\" * 50)\n",
    "    print(\"Training StudentMobileNet Model\")\n",
    "    print(\"=\" * 50)\n",
    "    \n",
    "    student_model = StudentMobileNet()\n",
    "    student_model = train_model(\n",
    "        student_model, \n",
    "        train_loader, \n",
    "        test_loader, \n",
    "        epochs=epochs, \n",
    "        lr=1e-3,\n",
    "        device=device, \n",
    "        run_name=\"StudentMobileNet\"\n",
    "    )\n",
    "    \n",
    "    print(\"\\nEvaluating StudentMobileNet on test set:\")\n",
    "    student_acc = test_model(student_model, test_loader, device)\n",
    "    \n",
    "    print(\"\\n\" + \"=\" * 50)\n",
    "    print(\"Training TeacherResNet Model\")\n",
    "    print(\"=\" * 50)\n",
    "    \n",
    "    teacher_model = TeacherResNet()\n",
    "    teacher_model = train_model(\n",
    "        teacher_model, \n",
    "        train_loader, \n",
    "        test_loader, \n",
    "        epochs=epochs, \n",
    "        lr=1e-3,\n",
    "        device=device, \n",
    "        run_name=\"TeacherResNet\"\n",
    "    )\n",
    "    \n",
    "    print(\"\\nEvaluating TeacherResNet on test set:\")\n",
    "    teacher_acc = test_model(teacher_model, test_loader, device)\n",
    "    \n",
    "    print(\"\\n\" + \"=\" * 50)\n",
    "    print(\"Model Comparison\")\n",
    "    print(\"=\" * 50)\n",
    "    print(f\"StudentMobileNet accuracy: {student_acc:.2f}%\")\n",
    "    print(f\"TeacherResNet accuracy: {teacher_acc:.2f}%\")\n",
    "    print(f\"Difference: {teacher_acc - student_acc:.2f}%\")\n",
    "    \n",
    "    return student_model, teacher_model\n",
    "\n",
    "# To run the training and evaluation:\n",
    "device = \"cuda\" if torch.cuda.is_available() else \"cpu\"\n",
    "student_model, teacher_model = main(train_loader, test_loader, device=device, epochs=10)"
   ]
  },
  {
   "cell_type": "code",
   "execution_count": null,
   "id": "16c807b9",
   "metadata": {},
   "outputs": [],
   "source": []
  }
 ],
 "metadata": {
  "kernelspec": {
   "display_name": "Python 3",
   "language": "python",
   "name": "python3"
  },
  "language_info": {
   "codemirror_mode": {
    "name": "ipython",
    "version": 3
   },
   "file_extension": ".py",
   "mimetype": "text/x-python",
   "name": "python",
   "nbconvert_exporter": "python",
   "pygments_lexer": "ipython3",
   "version": "3.12.1"
  }
 },
 "nbformat": 4,
 "nbformat_minor": 5
}
