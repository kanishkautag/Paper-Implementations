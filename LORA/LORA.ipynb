{
 "cells": [
  {
   "cell_type": "code",
   "execution_count": 1,
   "metadata": {},
   "outputs": [],
   "source": [
    "import torch \n",
    "import torchvision\n",
    "import torch.nn as nn\n",
    "import torchvision.transforms as transforms"
   ]
  },
  {
   "cell_type": "code",
   "execution_count": 2,
   "metadata": {},
   "outputs": [],
   "source": [
    "transform = transforms.Compose([\n",
    "    transforms.ToTensor(),\n",
    "    transforms.Normalize((0.5,), (0.5,))  # Single value for mean and std for grayscale\n",
    "])\n",
    "\n",
    "fashion_dataset=torchvision.datasets.FashionMNIST(root='./data',train=True,download=True,transform=transform)\n",
    "trainset=torch.utils.data.DataLoader(fashion_dataset,batch_size=4,shuffle=True)\n",
    "\n",
    "fashion_dataset_test=torchvision.datasets.FashionMNIST(root='./data',train=False,download=True,transform=transform)\n",
    "testset=torch.utils.data.DataLoader(fashion_dataset_test,batch_size=4,shuffle=True)\n"
   ]
  },
  {
   "cell_type": "code",
   "execution_count": 3,
   "metadata": {},
   "outputs": [],
   "source": [
    "class DeepNN(nn.Module):\n",
    "    def __init__(self,hidden_size1=500,hiddensize2=1000):\n",
    "        super(DeepNN,self).__init__()\n",
    "        self.linear1=nn.Linear(784,hidden_size1)\n",
    "        self.linear2=nn.Linear(hidden_size1,hiddensize2)\n",
    "        self.linear3=nn.Linear(hiddensize2,10)\n",
    "        self.relu=nn.LeakyReLU()\n",
    "\n",
    "    def forward(self,img):\n",
    "        x=img.view(-1,784) \n",
    "        x=self.relu(self.linear1(x))\n",
    "        x=self.relu(self.linear2(x))\n",
    "        x=self.linear3(x)\n",
    "        return x\n",
    "    \n",
    "net=DeepNN()"
   ]
  },
  {
   "cell_type": "code",
   "execution_count": 5,
   "metadata": {},
   "outputs": [
    {
     "name": "stdout",
     "output_type": "stream",
     "text": [
      "Epoch [1/1], Loss: 0.4378\n",
      "Finished Training\n"
     ]
    }
   ],
   "source": [
    "def train(trainset,net,epochs=5):\n",
    "    cross=nn.CrossEntropyLoss()\n",
    "    optim=torch.optim.Adam(net.parameters(),lr=0.001)\n",
    "    totalit=0\n",
    "\n",
    "    for epoch in range(epochs):\n",
    "        net.train()\n",
    "        runningloss=0.0\n",
    "        for i,(input,labels) in   :\n",
    "            optim.zero_grad()\n",
    "            outputs=net(input)\n",
    "            loss=cross(outputs,labels)\n",
    "            loss.backward()\n",
    "            optim.step()\n",
    "\n",
    "            runningloss+=loss.item()\n",
    "\n",
    "        print(f\"Epoch [{epoch + 1}/{epochs}], Loss: {runningloss / len(trainset):.4f}\") \n",
    "    print('Finished Training')\n",
    "\n",
    "\n",
    "\n",
    "        \n",
    "train(trainset,net,epochs=1)"
   ]
  },
  {
   "cell_type": "code",
   "execution_count": 7,
   "metadata": {},
   "outputs": [
    {
     "name": "stdout",
     "output_type": "stream",
     "text": [
      "Classification Report\n",
      "              precision    recall  f1-score   support\n",
      "\n",
      " T-shirt/top       0.79      0.74      0.77      1000\n",
      "     Trouser       0.98      0.94      0.96      1000\n",
      "    Pullover       0.88      0.55      0.68      1000\n",
      "       Dress       0.71      0.94      0.81      1000\n",
      "        Coat       0.72      0.80      0.76      1000\n",
      "      Sandal       0.93      0.88      0.91      1000\n",
      "       Shirt       0.63      0.57      0.60      1000\n",
      "     Sneaker       0.94      0.80      0.86      1000\n",
      "         Bag       0.75      0.97      0.85      1000\n",
      "  Ankle boot       0.90      0.96      0.93      1000\n",
      "\n",
      "    accuracy                           0.81     10000\n",
      "   macro avg       0.82      0.81      0.81     10000\n",
      "weighted avg       0.82      0.81      0.81     10000\n",
      "\n",
      "Overall Accuracy: 0.815\n"
     ]
    }
   ],
   "source": [
    "from sklearn.metrics import classification_report, accuracy_score\n",
    "def test():\n",
    "    y_pred=[]\n",
    "    y_true=[]\n",
    "\n",
    "    with torch.no_grad():\n",
    "        net.eval()\n",
    "        for data in testset:\n",
    "            images,labels=data\n",
    "            x,y=data\n",
    "          \n",
    "            x=x.view(-1,784)\n",
    "            outputs=net(x)   \n",
    "            predictions=torch.argmax(outputs,dim=1)\n",
    "            y_true.extend(y.numpy())\n",
    "            y_pred.extend(predictions.numpy())\n",
    "\n",
    "    print(f\"Classification Report\")\n",
    "    print(classification_report(y_true, y_pred, target_names=fashion_dataset.classes))\n",
    "    print(f\"Overall Accuracy: {accuracy_score(y_true, y_pred):.3f}\")\n",
    "\n",
    "test()\n",
    "\n",
    "\n",
    "    \n",
    "    "
   ]
  },
  {
   "cell_type": "code",
   "execution_count": 10,
   "metadata": {},
   "outputs": [
    {
     "data": {
      "text/plain": [
       "==========================================================================================\n",
       "Layer (type:depth-idx)                   Output Shape              Param #\n",
       "==========================================================================================\n",
       "DeepNN                                   [4, 10]                   --\n",
       "├─Linear: 1-1                            [4, 500]                  392,500\n",
       "├─LeakyReLU: 1-2                         [4, 500]                  --\n",
       "├─Linear: 1-3                            [4, 1000]                 501,000\n",
       "├─LeakyReLU: 1-4                         [4, 1000]                 --\n",
       "├─Linear: 1-5                            [4, 10]                   10,010\n",
       "==========================================================================================\n",
       "Total params: 903,510\n",
       "Trainable params: 903,510\n",
       "Non-trainable params: 0\n",
       "Total mult-adds (Units.MEGABYTES): 3.61\n",
       "==========================================================================================\n",
       "Input size (MB): 0.01\n",
       "Forward/backward pass size (MB): 0.05\n",
       "Params size (MB): 3.61\n",
       "Estimated Total Size (MB): 3.67\n",
       "=========================================================================================="
      ]
     },
     "execution_count": 10,
     "metadata": {},
     "output_type": "execute_result"
    }
   ],
   "source": [
    "from torchinfo import summary\n",
    "summary(net, input_size=(4, 1, 28, 28))"
   ]
  },
  {
   "cell_type": "markdown",
   "metadata": {},
   "source": [
    "# Lets say rank is 8"
   ]
  },
  {
   "cell_type": "code",
   "execution_count": null,
   "metadata": {},
   "outputs": [],
   "source": [
    "class LoRA(nn.Module):\n",
    "    def __init__(self,original_layer,rank=8):\n",
    "        super().__init__()\n",
    "        self.rank=rank\n",
    "        self.original_layer=original_layer\n",
    "\n",
    "        in_features=self.original_layer.in_features\n",
    "        out_feature=self.original_layer.out_features\n",
    "        self.A=nn.Parameter(torch.rand(in_features,rank))\n",
    "        self.B=nn.Parameter()\n",
    "        "
   ]
  }
 ],
 "metadata": {
  "kernelspec": {
   "display_name": "Python 3",
   "language": "python",
   "name": "python3"
  },
  "language_info": {
   "codemirror_mode": {
    "name": "ipython",
    "version": 3
   },
   "file_extension": ".py",
   "mimetype": "text/x-python",
   "name": "python",
   "nbconvert_exporter": "python",
   "pygments_lexer": "ipython3",
   "version": "3.12.1"
  }
 },
 "nbformat": 4,
 "nbformat_minor": 2
}
